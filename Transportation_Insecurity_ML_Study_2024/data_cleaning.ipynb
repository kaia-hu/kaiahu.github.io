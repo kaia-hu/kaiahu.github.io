{
 "cells": [
  {
   "cell_type": "markdown",
   "id": "43e9e002-f22b-4c16-802b-d0894023609f",
   "metadata": {},
   "source": [
    "# 90-803: Sprint 3\n",
    "\n",
    "## Team 15: Kaia Hu, Megan Ty\n",
    "\n",
    "Link to Download Data: https://drive.google.com/drive/folders/1RxgED3M7aPIH40KomLbKEfYCXuSd4RuL?usp=sharing "
   ]
  },
  {
   "cell_type": "code",
   "execution_count": 53,
   "id": "1bff5566-8cf2-4e6c-a08b-d58255ab9c45",
   "metadata": {},
   "outputs": [],
   "source": [
    "import numpy as np\n",
    "import pandas as pd\n",
    "import seaborn as sns\n",
    "from sklearn.preprocessing import StandardScaler, PolynomialFeatures\n",
    "from sklearn.metrics import mean_squared_error\n",
    "from sklearn.linear_model import LinearRegression\n",
    "from sklearn.linear_model import Ridge, Lasso\n",
    "from sklearn.linear_model import LassoCV, RidgeCV\n",
    "from sklearn.model_selection import train_test_split, cross_val_score\n",
    "from sklearn.feature_selection import SequentialFeatureSelector\n",
    "from sklearn.tree import DecisionTreeRegressor, DecisionTreeClassifier\n",
    "from sklearn.ensemble import BaggingClassifier, RandomForestClassifier, GradientBoostingClassifier\n",
    "from sklearn.ensemble import RandomForestRegressor, BaggingRegressor, GradientBoostingRegressor, AdaBoostRegressor\n",
    "import seaborn as sns\n",
    "\n",
    "from matplotlib import pyplot as plt\n",
    "%matplotlib inline"
   ]
  },
  {
   "cell_type": "code",
   "execution_count": 54,
   "id": "d6742adb-1c88-4181-b0b9-f87506b5e0f5",
   "metadata": {
    "tags": []
   },
   "outputs": [],
   "source": [
    "# Only run this cell in your initial try\n",
    "\n",
    "# Import dataset\n",
    "housing = pd.read_csv('ahs2017n.csv')\n",
    "\n",
    "# Gets occupied units only. Filters from metadata. \n",
    "df_occupied = housing.loc[housing['INTSTATUS']==\"'1'\"]\n",
    "df_occupied.to_csv('Occupied_units.csv')"
   ]
  },
  {
   "cell_type": "code",
   "execution_count": 55,
   "id": "76b3dc2f-256a-44c7-aa82-0c9c4ba983bc",
   "metadata": {
    "tags": []
   },
   "outputs": [],
   "source": [
    "df_occupied = pd.read_csv('Occupied_units.csv')"
   ]
  },
  {
   "cell_type": "markdown",
   "id": "d3930175",
   "metadata": {},
   "source": [
    "# Getting important features\n",
    "\n",
    "This census dataset has about 3000 columns, across n categories. \n",
    "\n",
    "To reduce dimensionality, we start with either (1) one-two representative variable for each category that is expected to not be correlated with transportation and (2) for categories that are expected to be very correlated, we take several variables. \n",
    "\n",
    "## Categories and associated variables to be included\n",
    "Please see data_dictionary.md\n",
    "\n"
   ]
  },
  {
   "cell_type": "code",
   "execution_count": 56,
   "id": "a008f157-a933-4443-b5b3-22f40de1aa22",
   "metadata": {
    "tags": []
   },
   "outputs": [],
   "source": [
    "# Let's start with some features we think will be important \n",
    "features_list = ['YRBUILT', 'FOUNDTYPE', 'BLD', 'UNITSIZE', 'HEATFUEL', \n",
    "                 'WATSOURCE', 'ADEQUACY', 'MOVWHY', 'RMJOB', 'RMOWNHH', \n",
    "                 'RMFAMILY', 'RMCHANGE', 'RMCOMMUTE', 'RMHOME', 'RMCOSTS', \n",
    "                 'RMHOOD', 'RMOTHER', 'SEARCHSTOP', 'NRATE', \n",
    "                 'HINCP', 'DISHH', 'HHRACE', 'HHGRAD', \n",
    "                 'RENTCNTRL', 'HUDSUB',\n",
    "                 'DPEVVEHIC', 'DBMISSMORT', \n",
    "                 'HHCITSHP', 'NUMPEOPLE',\n",
    "                 'MULTIGEN', 'MARKETVAL', 'RATINGNH', 'NHQSCHOOL', 'NHQPUBTRN', 'TOTHCAMT', 'GARAGE', \n",
    "                 'COMDAYS', 'DRIVEALL', 'DIST', 'BUS', \n",
    "                 'SUBWAY', 'VAN', 'COMTYPE', 'COMCOST', 'SUBSIDY']\n",
    "df_occupied_features = df_occupied[features_list]"
   ]
  },
  {
   "cell_type": "code",
   "execution_count": 57,
   "id": "97e14d39",
   "metadata": {},
   "outputs": [
    {
     "name": "stdout",
     "output_type": "stream",
     "text": [
      "YRBUILT       0\n",
      "FOUNDTYPE     0\n",
      "BLD           0\n",
      "UNITSIZE      0\n",
      "HEATFUEL      0\n",
      "WATSOURCE     0\n",
      "ADEQUACY      0\n",
      "MOVWHY        0\n",
      "RMJOB         0\n",
      "RMOWNHH       0\n",
      "RMFAMILY      0\n",
      "RMCHANGE      0\n",
      "RMCOMMUTE     0\n",
      "RMHOME        0\n",
      "RMCOSTS       0\n",
      "RMHOOD        0\n",
      "RMOTHER       0\n",
      "SEARCHSTOP    0\n",
      "NRATE         0\n",
      "HINCP         0\n",
      "DISHH         0\n",
      "HHRACE        0\n",
      "HHGRAD        0\n",
      "RENTCNTRL     0\n",
      "HUDSUB        0\n",
      "DPEVVEHIC     0\n",
      "DBMISSMORT    0\n",
      "HHCITSHP      0\n",
      "NUMPEOPLE     0\n",
      "MULTIGEN      0\n",
      "MARKETVAL     0\n",
      "RATINGNH      0\n",
      "NHQSCHOOL     0\n",
      "NHQPUBTRN     0\n",
      "TOTHCAMT      0\n",
      "GARAGE        0\n",
      "COMDAYS       0\n",
      "DRIVEALL      0\n",
      "DIST          0\n",
      "BUS           0\n",
      "SUBWAY        0\n",
      "VAN           0\n",
      "COMTYPE       0\n",
      "COMCOST       0\n",
      "SUBSIDY       0\n",
      "dtype: int64\n"
     ]
    }
   ],
   "source": [
    "# Check for nulls\n",
    "print(df_occupied_features.isnull().sum(axis=0))"
   ]
  },
  {
   "cell_type": "code",
   "execution_count": 58,
   "id": "69d20610",
   "metadata": {},
   "outputs": [],
   "source": [
    "# there are a lot of pesky single quotation marks that need to be removed. \n",
    "df = df_occupied_features.applymap(lambda x: x.replace('\\'', '') if (isinstance(x, str)) else x)\n",
    "df = df.astype(int) \n",
    "# There is a strange abundance of -9s in this dataset. \n",
    "# Not sure what it means, but it doesn't make sense so we're going to treat them as nulls later. \n",
    "df = df.replace(-6, np.nan)\n",
    "df = df.replace(-9, np.nan)"
   ]
  },
  {
   "cell_type": "code",
   "execution_count": 59,
   "id": "38a7b18c",
   "metadata": {},
   "outputs": [
    {
     "name": "stdout",
     "output_type": "stream",
     "text": [
      "YRBUILT           0\n",
      "FOUNDTYPE     16178\n",
      "BLD               0\n",
      "UNITSIZE       6806\n",
      "HEATFUEL          0\n",
      "WATSOURCE         0\n",
      "ADEQUACY          0\n",
      "MOVWHY        57120\n",
      "RMJOB         45198\n",
      "RMOWNHH       45199\n",
      "RMFAMILY      45205\n",
      "RMCHANGE      45202\n",
      "RMCOMMUTE     45204\n",
      "RMHOME        45203\n",
      "RMCOSTS       45212\n",
      "RMHOOD        45214\n",
      "RMOTHER       45205\n",
      "SEARCHSTOP    43588\n",
      "NRATE         44402\n",
      "HINCP             0\n",
      "DISHH          1687\n",
      "HHRACE            0\n",
      "HHGRAD            0\n",
      "RENTCNTRL     54661\n",
      "HUDSUB        34512\n",
      "DPEVVEHIC     30024\n",
      "DBMISSMORT    37543\n",
      "HHCITSHP          0\n",
      "NUMPEOPLE         0\n",
      "MULTIGEN          0\n",
      "MARKETVAL     23472\n",
      "RATINGNH       2121\n",
      "NHQSCHOOL      6188\n",
      "NHQPUBTRN      3595\n",
      "TOTHCAMT          0\n",
      "GARAGE           58\n",
      "COMDAYS       42156\n",
      "DRIVEALL      43379\n",
      "DIST          45055\n",
      "BUS           44199\n",
      "SUBWAY        44199\n",
      "VAN           44199\n",
      "COMTYPE       42115\n",
      "COMCOST       44077\n",
      "SUBSIDY       56380\n",
      "dtype: int64\n",
      "(57984, 45)\n"
     ]
    }
   ],
   "source": [
    "# Check for nulls\n",
    "print(df.isnull().sum(axis=0))\n",
    "print(df.shape)"
   ]
  },
  {
   "cell_type": "markdown",
   "id": "b5c8d531-3384-4aca-96e0-52a45c85676f",
   "metadata": {
    "tags": []
   },
   "source": [
    "# Some Initial Visualizations"
   ]
  },
  {
   "cell_type": "code",
   "execution_count": 60,
   "id": "e93bcccb",
   "metadata": {},
   "outputs": [
    {
     "data": {
      "text/plain": [
       "(0.0, 10000000.0)"
      ]
     },
     "execution_count": 60,
     "metadata": {},
     "output_type": "execute_result"
    },
    {
     "data": {
      "image/png": "[encoded data removed]",
      "text/plain": [
       "<Figure size 640x480 with 1 Axes>"
      ]
     },
     "metadata": {},
     "output_type": "display_data"
    }
   ],
   "source": [
    "# Get hh income and their commuting distance\n",
    "df_income_dist = df[['HINCP', 'COMDAYS', 'DRIVEALL', 'DIST']]\n",
    "df_income_dist = df_income_dist[(df_income_dist['COMDAYS']>=1) & (df_income_dist['COMDAYS']<=7)\n",
    "                                & (df_income_dist['DRIVEALL']>=1) & (df_income_dist['DRIVEALL']<=7)\n",
    "                                & (df_income_dist['DIST'] > 0 )]\n",
    "\n",
    "plt.bar(df_income_dist['DIST'], df_income_dist['HINCP'])\n",
    "plt.xlabel('Distance Travelled (miles)')\n",
    "plt.ylabel('Annual Household Income ($)')\n",
    "plt.title('Household Income and Commuting Distances')\n",
    "plt.ylim([0, 10000000])"
   ]
  },
  {
   "cell_type": "code",
   "execution_count": 61,
   "id": "ab955140",
   "metadata": {},
   "outputs": [
    {
     "data": {
      "image/png": "[encoded data removed]",
      "text/plain": [
       "<Figure size 640x480 with 1 Axes>"
      ]
     },
     "metadata": {},
     "output_type": "display_data"
    }
   ],
   "source": [
    "# Get average cost of people who drive and people who take the bus \n",
    "df_costs = df[['HINCP', 'COMDAYS', 'COMTYPE', 'COMCOST']]\n",
    "df_cost_drive = df_costs[(df_costs['COMDAYS'] >= 1) & (df_costs['COMDAYS'] <=7 )\n",
    "                         & (df_costs['COMTYPE'] == 1) & (df_costs['COMCOST'] >= 0)]\n",
    "df_cost_bus = df_costs[(df_costs['COMDAYS'] >= 1) & (df_costs['COMDAYS'] <=7 )\n",
    "                        & (df_costs['COMTYPE'] == 2) & (df_costs['COMCOST'] >= 0)]\n",
    "\n",
    "plt.hist(df_cost_drive['COMCOST'], label = 'Car Spending')\n",
    "plt.hist(df_cost_bus['COMCOST'], label = 'Bus Spending')\n",
    "plt.legend()\n",
    "plt.xlabel('Spending ($)')\n",
    "plt.ylabel('Count')\n",
    "plt.title('Distribution of Spending, Car vs Bus')\n",
    "plt.show()"
   ]
  },
  {
   "cell_type": "markdown",
   "id": "c57c054f",
   "metadata": {},
   "source": [
    "# Setting up mobility insecurity metric\n",
    "Transportation insecurity can be divided into five major areas: availability, accessibility, accommodation, affordability, and acceptability. While in the first part we have gained an understanding on the economic stress of transportation, it is also important to understand the \"soft\" metrics of mobility insecurity, which includes availability, accessibility, and accommodation. Therefore, this section will start with setting up a new mobility insecurity metric, that takes into consideration both the connectivity of the living unit and overall commuting stress.\\\n",
    "\n",
    "The insecurity metric will be a total of 20. The higher, the more mobility insecurity that the household might face. Based on the exiting resource, here is how the insecurity metric will be calculated:\\ Living situation:\n",
    "\n",
    "1. -1 NHQSCHOOL = 2 (Disagree on having close proximity to schools)\n",
    "2. -3 NHQPUBTRN = 2 (Disagree on having close proximity to public transportation)\n",
    "3. -1 GARAGE !=’1’ (No garage)\\\n",
    "Mobility:\n",
    "\n",
    "1. -1 COMDAYS>5 (Commute for more than 5 days a week)\n",
    "2. -2 DRIVEALL>5 (Drive for more than 5 days of a week for commute)\n",
    "3. -4 DIST >40 (40 miles is average daily commute distance for Americans)\n",
    "4. -4 if BUS, SUBWAY, VAN = 1 AND NHQPUBTRN = 0 (Take public transportation while no reported good public transportation near residence)\n",
    "5. -4 if SUBSIDY = 3 (no subsidy for public transportation) \\\n",
    "Source: Gould-Werth, Alix, Jamie Griffin, and Alexandra K. Murphy. \"Developing a new measure of transportation insecurity: an exploratory factor analysis.\" Survey Practice 11, no. 2 (2018)."
   ]
  },
  {
   "cell_type": "code",
   "execution_count": 62,
   "id": "041ba161",
   "metadata": {},
   "outputs": [],
   "source": [
    "# Set up a column for df score\n",
    "df['INSECURITY'] = 0"
   ]
  },
  {
   "cell_type": "code",
   "execution_count": 63,
   "id": "96b7d84c",
   "metadata": {},
   "outputs": [
    {
     "data": {
      "text/plain": [
       "array([ -3.,   0.,  -4.,  -1.,  -5.,  -7.,  -2.,  -6., -11.,  -8., -12.,\n",
       "       -16., -10., -13.,  -9., -15., -17., -14., -19.])"
      ]
     },
     "execution_count": 63,
     "metadata": {},
     "output_type": "execute_result"
    }
   ],
   "source": [
    "# Define a function of metric calculation\n",
    "def calculate_df(row): \n",
    "    i = 0\n",
    "    if row['NHQSCHOOL'] == 2: i -= 1\n",
    "    if row['NHQPUBTRN'] == 2: i-= 3\n",
    "    if row['GARAGE'] != 1: i -= 1\n",
    "    if row['COMDAYS'] >5: i -= 1\n",
    "    if row['DRIVEALL'] >5: i -= 2\n",
    "    if row['DIST'] >40: i -= 4\n",
    "    if (row[['BUS', 'SUBWAY', 'VAN']].eq(1).any()) & (row['NHQPUBTRN'] == 2): \n",
    "        i -= 4\n",
    "    if row['SUBSIDY'] ==3: i -= 4\n",
    "    row['INSECURITY'] = i\n",
    "    return row['INSECURITY']\n",
    "\n",
    "df['INSECURITY'] = df.apply(calculate_df, axis=1)\n",
    "df['INSECURITY'].unique()"
   ]
  },
  {
   "cell_type": "code",
   "execution_count": 64,
   "id": "69c3efd5",
   "metadata": {},
   "outputs": [
    {
     "data": {
      "text/plain": [
       "(array([1.0000e+00, 1.7000e+01, 5.4000e+01, 1.0700e+02, 2.9700e+02,\n",
       "        5.0900e+02, 1.8360e+03, 1.0134e+04, 1.7377e+04, 2.7652e+04]),\n",
       " array([-19. , -17.1, -15.2, -13.3, -11.4,  -9.5,  -7.6,  -5.7,  -3.8,\n",
       "         -1.9,   0. ]),\n",
       " <BarContainer object of 10 artists>)"
      ]
     },
     "execution_count": 64,
     "metadata": {},
     "output_type": "execute_result"
    },
    {
     "data": {
      "image/png": "[encoded data removed]",
      "text/plain": [
       "<Figure size 640x480 with 1 Axes>"
      ]
     },
     "metadata": {},
     "output_type": "display_data"
    }
   ],
   "source": [
    "plt.hist(df['INSECURITY'])"
   ]
  },
  {
   "cell_type": "markdown",
   "id": "f7ba7d32",
   "metadata": {},
   "source": [
    "# Setting up transportation load metric"
   ]
  },
  {
   "cell_type": "code",
   "execution_count": 65,
   "id": "c4a059bb",
   "metadata": {},
   "outputs": [
    {
     "data": {
      "text/plain": [
       "count    12450.000000\n",
       "mean         0.068507\n",
       "std          0.097776\n",
       "min          0.000047\n",
       "25%          0.015456\n",
       "50%          0.037089\n",
       "75%          0.081205\n",
       "max          0.983535\n",
       "Name: load, dtype: float64"
      ]
     },
     "execution_count": 65,
     "metadata": {},
     "output_type": "execute_result"
    }
   ],
   "source": [
    "# Make sure that all COMCOST and HINCP are above 0\n",
    "df = df.loc[(df['COMCOST'] > 0) & (df['HINCP'] > 0)]\n",
    "df['load'] = df['COMCOST']/df['HINCP']\n",
    "df = df[(df['load'] < 1)]\n",
    "df['load'].describe()"
   ]
  },
  {
   "cell_type": "code",
   "execution_count": 66,
   "id": "a7688b08",
   "metadata": {},
   "outputs": [
    {
     "data": {
      "text/html": [
       "<div>\n",
       "<style scoped>\n",
       "    .dataframe tbody tr th:only-of-type {\n",
       "        vertical-align: middle;\n",
       "    }\n",
       "\n",
       "    .dataframe tbody tr th {\n",
       "        vertical-align: top;\n",
       "    }\n",
       "\n",
       "    .dataframe thead th {\n",
       "        text-align: right;\n",
       "    }\n",
       "</style>\n",
       "<table border=\"1\" class=\"dataframe\">\n",
       "  <thead>\n",
       "    <tr style=\"text-align: right;\">\n",
       "      <th></th>\n",
       "      <th>YRBUILT</th>\n",
       "      <th>FOUNDTYPE</th>\n",
       "      <th>BLD</th>\n",
       "      <th>UNITSIZE</th>\n",
       "      <th>HEATFUEL</th>\n",
       "      <th>WATSOURCE</th>\n",
       "      <th>ADEQUACY</th>\n",
       "      <th>MOVWHY</th>\n",
       "      <th>RMJOB</th>\n",
       "      <th>RMOWNHH</th>\n",
       "      <th>...</th>\n",
       "      <th>DRIVEALL</th>\n",
       "      <th>DIST</th>\n",
       "      <th>BUS</th>\n",
       "      <th>SUBWAY</th>\n",
       "      <th>VAN</th>\n",
       "      <th>COMTYPE</th>\n",
       "      <th>COMCOST</th>\n",
       "      <th>SUBSIDY</th>\n",
       "      <th>INSECURITY</th>\n",
       "      <th>load</th>\n",
       "    </tr>\n",
       "  </thead>\n",
       "  <tbody>\n",
       "    <tr>\n",
       "      <th>4</th>\n",
       "      <td>1960</td>\n",
       "      <td>2.0</td>\n",
       "      <td>2</td>\n",
       "      <td>7.0</td>\n",
       "      <td>2</td>\n",
       "      <td>1</td>\n",
       "      <td>1</td>\n",
       "      <td>NaN</td>\n",
       "      <td>NaN</td>\n",
       "      <td>NaN</td>\n",
       "      <td>...</td>\n",
       "      <td>5.0</td>\n",
       "      <td>40.0</td>\n",
       "      <td>2.0</td>\n",
       "      <td>2.0</td>\n",
       "      <td>2.0</td>\n",
       "      <td>1.0</td>\n",
       "      <td>5564.0</td>\n",
       "      <td>NaN</td>\n",
       "      <td>-4.0</td>\n",
       "      <td>0.025325</td>\n",
       "    </tr>\n",
       "    <tr>\n",
       "      <th>6</th>\n",
       "      <td>1970</td>\n",
       "      <td>3.0</td>\n",
       "      <td>2</td>\n",
       "      <td>3.0</td>\n",
       "      <td>2</td>\n",
       "      <td>1</td>\n",
       "      <td>1</td>\n",
       "      <td>NaN</td>\n",
       "      <td>NaN</td>\n",
       "      <td>NaN</td>\n",
       "      <td>...</td>\n",
       "      <td>5.0</td>\n",
       "      <td>2.0</td>\n",
       "      <td>2.0</td>\n",
       "      <td>2.0</td>\n",
       "      <td>2.0</td>\n",
       "      <td>3.0</td>\n",
       "      <td>278.0</td>\n",
       "      <td>NaN</td>\n",
       "      <td>-1.0</td>\n",
       "      <td>0.120870</td>\n",
       "    </tr>\n",
       "    <tr>\n",
       "      <th>8</th>\n",
       "      <td>1980</td>\n",
       "      <td>2.0</td>\n",
       "      <td>2</td>\n",
       "      <td>8.0</td>\n",
       "      <td>2</td>\n",
       "      <td>1</td>\n",
       "      <td>1</td>\n",
       "      <td>NaN</td>\n",
       "      <td>NaN</td>\n",
       "      <td>NaN</td>\n",
       "      <td>...</td>\n",
       "      <td>5.0</td>\n",
       "      <td>16.0</td>\n",
       "      <td>2.0</td>\n",
       "      <td>2.0</td>\n",
       "      <td>2.0</td>\n",
       "      <td>1.0</td>\n",
       "      <td>2226.0</td>\n",
       "      <td>NaN</td>\n",
       "      <td>-3.0</td>\n",
       "      <td>0.044167</td>\n",
       "    </tr>\n",
       "    <tr>\n",
       "      <th>14</th>\n",
       "      <td>1980</td>\n",
       "      <td>NaN</td>\n",
       "      <td>4</td>\n",
       "      <td>3.0</td>\n",
       "      <td>1</td>\n",
       "      <td>1</td>\n",
       "      <td>2</td>\n",
       "      <td>NaN</td>\n",
       "      <td>1.0</td>\n",
       "      <td>1.0</td>\n",
       "      <td>...</td>\n",
       "      <td>5.0</td>\n",
       "      <td>10.0</td>\n",
       "      <td>2.0</td>\n",
       "      <td>2.0</td>\n",
       "      <td>2.0</td>\n",
       "      <td>1.0</td>\n",
       "      <td>1391.0</td>\n",
       "      <td>NaN</td>\n",
       "      <td>-1.0</td>\n",
       "      <td>0.010766</td>\n",
       "    </tr>\n",
       "    <tr>\n",
       "      <th>16</th>\n",
       "      <td>1950</td>\n",
       "      <td>3.0</td>\n",
       "      <td>2</td>\n",
       "      <td>4.0</td>\n",
       "      <td>2</td>\n",
       "      <td>1</td>\n",
       "      <td>2</td>\n",
       "      <td>NaN</td>\n",
       "      <td>NaN</td>\n",
       "      <td>NaN</td>\n",
       "      <td>...</td>\n",
       "      <td>5.0</td>\n",
       "      <td>40.0</td>\n",
       "      <td>2.0</td>\n",
       "      <td>2.0</td>\n",
       "      <td>2.0</td>\n",
       "      <td>1.0</td>\n",
       "      <td>5564.0</td>\n",
       "      <td>NaN</td>\n",
       "      <td>0.0</td>\n",
       "      <td>0.055640</td>\n",
       "    </tr>\n",
       "    <tr>\n",
       "      <th>...</th>\n",
       "      <td>...</td>\n",
       "      <td>...</td>\n",
       "      <td>...</td>\n",
       "      <td>...</td>\n",
       "      <td>...</td>\n",
       "      <td>...</td>\n",
       "      <td>...</td>\n",
       "      <td>...</td>\n",
       "      <td>...</td>\n",
       "      <td>...</td>\n",
       "      <td>...</td>\n",
       "      <td>...</td>\n",
       "      <td>...</td>\n",
       "      <td>...</td>\n",
       "      <td>...</td>\n",
       "      <td>...</td>\n",
       "      <td>...</td>\n",
       "      <td>...</td>\n",
       "      <td>...</td>\n",
       "      <td>...</td>\n",
       "      <td>...</td>\n",
       "    </tr>\n",
       "    <tr>\n",
       "      <th>57964</th>\n",
       "      <td>2015</td>\n",
       "      <td>NaN</td>\n",
       "      <td>8</td>\n",
       "      <td>1.0</td>\n",
       "      <td>1</td>\n",
       "      <td>1</td>\n",
       "      <td>1</td>\n",
       "      <td>NaN</td>\n",
       "      <td>NaN</td>\n",
       "      <td>NaN</td>\n",
       "      <td>...</td>\n",
       "      <td>6.0</td>\n",
       "      <td>2.0</td>\n",
       "      <td>2.0</td>\n",
       "      <td>2.0</td>\n",
       "      <td>2.0</td>\n",
       "      <td>1.0</td>\n",
       "      <td>334.0</td>\n",
       "      <td>NaN</td>\n",
       "      <td>-7.0</td>\n",
       "      <td>0.006958</td>\n",
       "    </tr>\n",
       "    <tr>\n",
       "      <th>57974</th>\n",
       "      <td>2015</td>\n",
       "      <td>1.0</td>\n",
       "      <td>2</td>\n",
       "      <td>8.0</td>\n",
       "      <td>1</td>\n",
       "      <td>1</td>\n",
       "      <td>1</td>\n",
       "      <td>NaN</td>\n",
       "      <td>2.0</td>\n",
       "      <td>2.0</td>\n",
       "      <td>...</td>\n",
       "      <td>5.0</td>\n",
       "      <td>10.0</td>\n",
       "      <td>2.0</td>\n",
       "      <td>2.0</td>\n",
       "      <td>2.0</td>\n",
       "      <td>1.0</td>\n",
       "      <td>1391.0</td>\n",
       "      <td>NaN</td>\n",
       "      <td>-3.0</td>\n",
       "      <td>0.009935</td>\n",
       "    </tr>\n",
       "    <tr>\n",
       "      <th>57977</th>\n",
       "      <td>2015</td>\n",
       "      <td>1.0</td>\n",
       "      <td>3</td>\n",
       "      <td>9.0</td>\n",
       "      <td>2</td>\n",
       "      <td>1</td>\n",
       "      <td>1</td>\n",
       "      <td>NaN</td>\n",
       "      <td>NaN</td>\n",
       "      <td>NaN</td>\n",
       "      <td>...</td>\n",
       "      <td>5.0</td>\n",
       "      <td>100.0</td>\n",
       "      <td>2.0</td>\n",
       "      <td>2.0</td>\n",
       "      <td>2.0</td>\n",
       "      <td>1.0</td>\n",
       "      <td>13910.0</td>\n",
       "      <td>NaN</td>\n",
       "      <td>-7.0</td>\n",
       "      <td>0.065551</td>\n",
       "    </tr>\n",
       "    <tr>\n",
       "      <th>57979</th>\n",
       "      <td>2015</td>\n",
       "      <td>1.0</td>\n",
       "      <td>2</td>\n",
       "      <td>4.0</td>\n",
       "      <td>3</td>\n",
       "      <td>2</td>\n",
       "      <td>1</td>\n",
       "      <td>NaN</td>\n",
       "      <td>2.0</td>\n",
       "      <td>1.0</td>\n",
       "      <td>...</td>\n",
       "      <td>5.0</td>\n",
       "      <td>20.0</td>\n",
       "      <td>2.0</td>\n",
       "      <td>2.0</td>\n",
       "      <td>2.0</td>\n",
       "      <td>1.0</td>\n",
       "      <td>2782.0</td>\n",
       "      <td>NaN</td>\n",
       "      <td>-3.0</td>\n",
       "      <td>0.016365</td>\n",
       "    </tr>\n",
       "    <tr>\n",
       "      <th>57982</th>\n",
       "      <td>2013</td>\n",
       "      <td>1.0</td>\n",
       "      <td>2</td>\n",
       "      <td>9.0</td>\n",
       "      <td>2</td>\n",
       "      <td>1</td>\n",
       "      <td>1</td>\n",
       "      <td>NaN</td>\n",
       "      <td>NaN</td>\n",
       "      <td>NaN</td>\n",
       "      <td>...</td>\n",
       "      <td>3.0</td>\n",
       "      <td>4.0</td>\n",
       "      <td>2.0</td>\n",
       "      <td>2.0</td>\n",
       "      <td>2.0</td>\n",
       "      <td>1.0</td>\n",
       "      <td>334.0</td>\n",
       "      <td>NaN</td>\n",
       "      <td>-3.0</td>\n",
       "      <td>0.001713</td>\n",
       "    </tr>\n",
       "  </tbody>\n",
       "</table>\n",
       "<p>12450 rows × 47 columns</p>\n",
       "</div>"
      ],
      "text/plain": [
       "       YRBUILT  FOUNDTYPE  BLD  UNITSIZE  HEATFUEL  WATSOURCE  ADEQUACY  \\\n",
       "4         1960        2.0    2       7.0         2          1         1   \n",
       "6         1970        3.0    2       3.0         2          1         1   \n",
       "8         1980        2.0    2       8.0         2          1         1   \n",
       "14        1980        NaN    4       3.0         1          1         2   \n",
       "16        1950        3.0    2       4.0         2          1         2   \n",
       "...        ...        ...  ...       ...       ...        ...       ...   \n",
       "57964     2015        NaN    8       1.0         1          1         1   \n",
       "57974     2015        1.0    2       8.0         1          1         1   \n",
       "57977     2015        1.0    3       9.0         2          1         1   \n",
       "57979     2015        1.0    2       4.0         3          2         1   \n",
       "57982     2013        1.0    2       9.0         2          1         1   \n",
       "\n",
       "       MOVWHY  RMJOB  RMOWNHH  ...  DRIVEALL   DIST  BUS  SUBWAY  VAN  \\\n",
       "4         NaN    NaN      NaN  ...       5.0   40.0  2.0     2.0  2.0   \n",
       "6         NaN    NaN      NaN  ...       5.0    2.0  2.0     2.0  2.0   \n",
       "8         NaN    NaN      NaN  ...       5.0   16.0  2.0     2.0  2.0   \n",
       "14        NaN    1.0      1.0  ...       5.0   10.0  2.0     2.0  2.0   \n",
       "16        NaN    NaN      NaN  ...       5.0   40.0  2.0     2.0  2.0   \n",
       "...       ...    ...      ...  ...       ...    ...  ...     ...  ...   \n",
       "57964     NaN    NaN      NaN  ...       6.0    2.0  2.0     2.0  2.0   \n",
       "57974     NaN    2.0      2.0  ...       5.0   10.0  2.0     2.0  2.0   \n",
       "57977     NaN    NaN      NaN  ...       5.0  100.0  2.0     2.0  2.0   \n",
       "57979     NaN    2.0      1.0  ...       5.0   20.0  2.0     2.0  2.0   \n",
       "57982     NaN    NaN      NaN  ...       3.0    4.0  2.0     2.0  2.0   \n",
       "\n",
       "       COMTYPE  COMCOST  SUBSIDY  INSECURITY      load  \n",
       "4          1.0   5564.0      NaN        -4.0  0.025325  \n",
       "6          3.0    278.0      NaN        -1.0  0.120870  \n",
       "8          1.0   2226.0      NaN        -3.0  0.044167  \n",
       "14         1.0   1391.0      NaN        -1.0  0.010766  \n",
       "16         1.0   5564.0      NaN         0.0  0.055640  \n",
       "...        ...      ...      ...         ...       ...  \n",
       "57964      1.0    334.0      NaN        -7.0  0.006958  \n",
       "57974      1.0   1391.0      NaN        -3.0  0.009935  \n",
       "57977      1.0  13910.0      NaN        -7.0  0.065551  \n",
       "57979      1.0   2782.0      NaN        -3.0  0.016365  \n",
       "57982      1.0    334.0      NaN        -3.0  0.001713  \n",
       "\n",
       "[12450 rows x 47 columns]"
      ]
     },
     "execution_count": 66,
     "metadata": {},
     "output_type": "execute_result"
    }
   ],
   "source": [
    "df"
   ]
  },
  {
   "cell_type": "markdown",
   "id": "d57bc2c9",
   "metadata": {},
   "source": [
    "# Remainder of data cleaning"
   ]
  },
  {
   "cell_type": "markdown",
   "id": "a2358143",
   "metadata": {},
   "source": [
    "### Housing Unit Characteristics"
   ]
  },
  {
   "cell_type": "code",
   "execution_count": 67,
   "id": "1f5a8ce3",
   "metadata": {},
   "outputs": [
    {
     "data": {
      "text/plain": [
       "0"
      ]
     },
     "execution_count": 67,
     "metadata": {},
     "output_type": "execute_result"
    }
   ],
   "source": [
    "#Housing Unit Characteristics\n",
    "df['YRBUILT'].isnull().sum(axis=0)"
   ]
  },
  {
   "cell_type": "code",
   "execution_count": 68,
   "id": "bc318be9",
   "metadata": {},
   "outputs": [],
   "source": [
    "#* FOUNDTYPE - Foundation type\n",
    "#    * Single family: FOUNDTYPE IN (1,2,3,4)\n",
    "#    * Manufactured/mobile home: FOUNDTYPE IN (5,6,7,8)\n",
    "#    * Other: FOUNDTYPE = 9 \n",
    "\n",
    "conditions = [\n",
    "    (df['FOUNDTYPE'].isin([1, 2, 3, 4])),\n",
    "    (df['FOUNDTYPE'].isin([5, 6, 7, 8])),\n",
    "]\n",
    "\n",
    "categories = ['SINGLEFAM', 'MOBILE']\n",
    "# Create a new column with categories based on conditions\n",
    "df['FOUNDTYPE'] = np.select(conditions, categories, default='Uncategorized')\n",
    "df = pd.get_dummies(df, columns = ['FOUNDTYPE'], drop_first= True)\n",
    "\n"
   ]
  },
  {
   "cell_type": "markdown",
   "id": "33a381df",
   "metadata": {},
   "source": [
    "### General Housing"
   ]
  },
  {
   "cell_type": "code",
   "execution_count": 69,
   "id": "7300be26",
   "metadata": {},
   "outputs": [],
   "source": [
    "conditions = [\n",
    "    (df['BLD'] == 1),\n",
    "    (df['BLD'] == 2),\n",
    "    (df['BLD'] == 3),\n",
    "    (df['BLD'].isin([4,5,6])),\n",
    "    (df['BLD'] == 7),\n",
    "    (df['BLD'].isin([8,9]))\n",
    "]\n",
    "\n",
    "categories = ['MOBILE' ,'SINGLEDETCH', 'SINGLEATTACHED', \n",
    "              'LOWDEN', 'MIDDEN', 'HIGHDEN']\n",
    "\n",
    "# Create a new column with categories based on conditions\n",
    "df['BLD'] = np.select(conditions, categories, default='Uncategorized')\n",
    "df = pd.get_dummies(df, columns = ['BLD'], drop_first= True)"
   ]
  },
  {
   "cell_type": "markdown",
   "id": "376ae944",
   "metadata": {},
   "source": [
    "### Rooms, Size, Amenities"
   ]
  },
  {
   "cell_type": "code",
   "execution_count": 70,
   "id": "cdeb53fa",
   "metadata": {},
   "outputs": [
    {
     "data": {
      "text/plain": [
       "0"
      ]
     },
     "execution_count": 70,
     "metadata": {},
     "output_type": "execute_result"
    }
   ],
   "source": [
    "#Rooms, Size, Amenities\n",
    "#* UNITSIZE - Square footage of unit \n",
    "df['UNITSIZE'].interpolate(method = 'linear', inplace=True)\n",
    "df['UNITSIZE'].isnull().sum(axis=0)"
   ]
  },
  {
   "cell_type": "markdown",
   "id": "50811761",
   "metadata": {},
   "source": [
    "### Heating, AC, Appliances"
   ]
  },
  {
   "cell_type": "code",
   "execution_count": 71,
   "id": "3c1a732a",
   "metadata": {},
   "outputs": [],
   "source": [
    "conditions = [\n",
    "    (df['HEATFUEL'] == 1),\n",
    "    (df['HEATFUEL'] == 2),\n",
    "    (df['HEATFUEL'] == 3),\n",
    "    (df['HEATFUEL'] == 4),\n",
    "    (df['HEATFUEL'] == 5),\n",
    "    (df['HEATFUEL'] == 6),\n",
    "    (df['HEATFUEL'] == 7),\n",
    "    (df['HEATFUEL'] == 8),\n",
    "]\n",
    "\n",
    "categories = ['ELEC', 'PIPEDGAS', 'BOTGAS', \n",
    "              'FUELOIL', 'KEROSENE', 'COALCOKE', \n",
    "              'WOOD', 'SOLAR'] \n",
    "\n",
    "# Create a new column with categories based on conditions\n",
    "df['HEATFUEL'] = np.select(conditions, categories, default='Uncategorized')\n",
    "df = pd.get_dummies(df, columns = ['HEATFUEL'], drop_first= True)\n"
   ]
  },
  {
   "cell_type": "markdown",
   "id": "05663409",
   "metadata": {},
   "source": [
    "### Plumbing, Water, Sewage"
   ]
  },
  {
   "cell_type": "code",
   "execution_count": 72,
   "id": "3e178299",
   "metadata": {},
   "outputs": [],
   "source": [
    "conditions = [\n",
    "    (df['WATSOURCE'] == 1),\n",
    "    (df['WATSOURCE'] == 2)\n",
    "]\n",
    "\n",
    "categories = ['SYSTEM', 'INDIVWELL'] \n",
    "\n",
    "# Create a new column with categories based on conditions\n",
    "df['WATSOURCE'] = np.select(conditions, categories, default='Uncategorized')\n",
    "df = pd.get_dummies(df, columns = ['WATSOURCE'], drop_first= True)"
   ]
  },
  {
   "cell_type": "markdown",
   "id": "d218040a",
   "metadata": {},
   "source": [
    "### Housing Quality "
   ]
  },
  {
   "cell_type": "code",
   "execution_count": 73,
   "id": "43518442",
   "metadata": {},
   "outputs": [],
   "source": [
    "conditions = [\n",
    "    (df['ADEQUACY'] == 1),\n",
    "    (df['ADEQUACY'] == 2),\n",
    "    (df['ADEQUACY'] == 3)\n",
    "]\n",
    "\n",
    "categories = ['ADEQUATE', 'MOD_INAD', 'SEV_INAD']\n",
    "\n",
    "# Create a new column with categories based on conditions\n",
    "df['ADEQUACY'] = np.select(conditions, categories, default='Uncategorized')\n",
    "df = pd.get_dummies(df, columns = ['ADEQUACY'], drop_first= True)"
   ]
  },
  {
   "cell_type": "markdown",
   "id": "005153d7",
   "metadata": {},
   "source": [
    "### Migration (Reasons for Leaving Previous Residence)"
   ]
  },
  {
   "cell_type": "code",
   "execution_count": 74,
   "id": "5d0774a8",
   "metadata": {},
   "outputs": [],
   "source": [
    "conditions = [\n",
    "    (df['MOVWHY'] == 1),\n",
    "    (df['MOVWHY'] == 2)\n",
    "]\n",
    "\n",
    "categories = ['MOVE_FINANCE', 'MOVE_DISASTER']\n",
    "\n",
    "# Create a new column with categories based on conditions\n",
    "df['MOVWHY'] = np.select(conditions, categories, default='Uncategorized')\n",
    "df = pd.get_dummies(df, columns = ['MOVWHY'], drop_first= True)\n"
   ]
  },
  {
   "cell_type": "code",
   "execution_count": 75,
   "id": "2a57498c",
   "metadata": {},
   "outputs": [],
   "source": [
    "\n",
    "col_list = ['RMJOB', 'RMOWNHH', \n",
    "            'RMFAMILY', 'RMCHANGE', 'RMCOMMUTE', 'RMHOME', 'RMCOSTS', \n",
    "            'RMHOOD', 'RMOTHER']\n",
    "for col in col_list: \n",
    "#    print(df[col].isnull().sum(axis=0))\n",
    "    df[col].fillna(0, inplace = True)\n",
    "#    print(df[col].isnull().sum(axis=0))\n",
    "\n"
   ]
  },
  {
   "cell_type": "markdown",
   "id": "582b2558",
   "metadata": {},
   "source": [
    "### Neighbourhood Search"
   ]
  },
  {
   "cell_type": "code",
   "execution_count": 76,
   "id": "a7a123fc",
   "metadata": {},
   "outputs": [],
   "source": [
    "#Neighbourhood Search \n",
    "#* SEARCHSTOP != 'N' & NRATE: Comparison to previous neighbourhood\n",
    "#    * Better neighbourhood - 1\n",
    "#    * Worse neighbourhood - 2\n",
    "#    * About the same - 3\n",
    "#    * Same neighbourhood - 4\n",
    "\n",
    "conditions = [\n",
    "    (df['SEARCHSTOP'] != 'N') & (df['NRATE'] == 1),\n",
    "    (df['SEARCHSTOP'] != 'N') & (df['NRATE'] == 2),\n",
    "    (df['SEARCHSTOP'] != 'N') & (df['NRATE'] == 3),\n",
    "    (df['SEARCHSTOP'] != 'N') & (df['NRATE'] == 4)\n",
    "]\n",
    "\n",
    "categories = ['BETTER_NH', 'WORSE_NH', 'ABOUT_NH', 'SAME_NH']\n",
    "\n",
    "# Create a new column with categories based on conditions\n",
    "df['NRATE'] = np.select(conditions, categories, default='Uncategorized')\n",
    "df = pd.get_dummies(df, columns = ['NRATE'], drop_first= True)\n",
    "df = df.drop(['SEARCHSTOP'], axis = 1)"
   ]
  },
  {
   "cell_type": "markdown",
   "id": "4d742f50",
   "metadata": {},
   "source": [
    "### Demographics"
   ]
  },
  {
   "cell_type": "code",
   "execution_count": 77,
   "id": "9f5a7b58",
   "metadata": {},
   "outputs": [],
   "source": [
    "# Categorize race correctly \n",
    "# Reassign into specific categories: White, Black, Native, Asian, Pacific Islander, Two or More\n",
    "\n",
    "# Define the conditions and corresponding categories\n",
    "conditions = [\n",
    "    (df['HHRACE'] == 1),\n",
    "    (df['HHRACE'] == 2),\n",
    "    (df['HHRACE'] == 3),\n",
    "    (df['HHRACE'] == 4),   \n",
    "    (df['HHRACE'] == 5), \n",
    "    (df['HHRACE'].isin([6,7,8,9,10,11,12,13,14,15,16,17,18,19,20,21]))\n",
    "]\n",
    "\n",
    "categories = ['White', 'Black', 'Native', 'Asian', 'Pacific', '2plus']\n",
    "\n",
    "# Create a new column with categories based on conditions\n",
    "df['HHRACE'] = np.select(conditions, categories, default='Uncategorized')\n",
    "df = pd.get_dummies(df, columns = ['HHRACE'], drop_first= True)"
   ]
  },
  {
   "cell_type": "code",
   "execution_count": 78,
   "id": "eeae8ff0",
   "metadata": {},
   "outputs": [],
   "source": [
    "# Categorize education status correctly\n",
    "# Reassign into specific categories: <HS, HS, Associate, Bacherlors, Graduate\n",
    "# <HS: HHGRAD in ('31' '32' '33' '34') or (HHGRAD = 'M') and HHGRAD in ('35' '36' '37' '38')\n",
    "# HS:  (HHGRAD = '39' or HHGRAD = '41'), HHGRAD = '41', HHGRAD = '40'\n",
    "# Associate's degree, HHGRAD in ('42' '43')\n",
    "# Bachelor's degree, HHGRAD = '44'\n",
    "# Graduate degree, HHGRAD in ('45' '46' '47')\n",
    "\n",
    "# Define the conditions and corresponding categories\n",
    "conditions = [\n",
    "    (df['HHGRAD'] >= 31) & (df['HHGRAD'] < 39),\n",
    "    (df['HHGRAD'] >= 39) & (df['HHGRAD'] < 42),\n",
    "    (df['HHGRAD'] >= 42) & (df['HHGRAD'] < 44),\n",
    "    (df['HHGRAD'] == 44),\n",
    "    (df['HHGRAD'] >= 45) & (df['HHGRAD'] < 48)\n",
    "]\n",
    "\n",
    "categories = ['noHS', 'HS', 'A_deg', 'B_deg', 'Grad_deg']\n",
    "\n",
    "# Create a new column with categories based on conditions\n",
    "df['HHGRAD'] = np.select(conditions, categories, default='Uncategorized')\n",
    "df = pd.get_dummies(df, columns = ['HHGRAD'], drop_first= True)"
   ]
  },
  {
   "cell_type": "code",
   "execution_count": 79,
   "id": "79f426ab",
   "metadata": {},
   "outputs": [],
   "source": [
    "# Clean HHCITSHP \n",
    "# Define the conditions and corresponding categories\n",
    "conditions = [\n",
    "    (df['HHCITSHP'].isin(['1','2','3','4'])),\n",
    "    (df['HHCITSHP'] == '5'),\n",
    "]\n",
    "\n",
    "categories = ['Cit', 'NotCit']\n",
    "\n",
    "# Create a new column with categories based on conditions\n",
    "df['HHCITSHP'] = np.select(conditions, categories, default='Uncategorized')\n",
    "df = pd.get_dummies(df, columns = ['HHCITSHP'], drop_first= True)"
   ]
  },
  {
   "cell_type": "code",
   "execution_count": 80,
   "id": "8076eb69",
   "metadata": {},
   "outputs": [
    {
     "data": {
      "text/plain": [
       "0"
      ]
     },
     "execution_count": 80,
     "metadata": {},
     "output_type": "execute_result"
    }
   ],
   "source": [
    "# Num peoples\n",
    "df['NUMPEOPLE'].interpolate(method = 'linear', inplace=True)\n",
    "df['NUMPEOPLE'].isnull().sum(axis=0)\n"
   ]
  },
  {
   "cell_type": "code",
   "execution_count": 81,
   "id": "4c8d56ca",
   "metadata": {},
   "outputs": [],
   "source": [
    "# Clean multigen \n",
    "df['MULTIGEN'] = df['MULTIGEN'].astype(int)\n",
    "\n",
    "# Define the conditions and corresponding categories\n",
    "conditions = [\n",
    "    (df['MULTIGEN'] == 3) | (df['MULTIGEN'] == 4) | (df['MULTIGEN'] == 6)]\n",
    "\n",
    "categories = ['Multi']\n",
    "\n",
    "# Create a new column with categories based on conditions\n",
    "df['MULTIGEN'] = np.select(conditions, categories, default='NotMulti')\n",
    "df = pd.get_dummies(df, columns = ['MULTIGEN'], drop_first= True)\n"
   ]
  },
  {
   "cell_type": "markdown",
   "id": "3ebc2b26",
   "metadata": {},
   "source": [
    "### Disabilities"
   ]
  },
  {
   "cell_type": "code",
   "execution_count": 82,
   "id": "d59f265a",
   "metadata": {},
   "outputs": [],
   "source": [
    "# DISHH is 1 if household has disability, 2 if it doesn't\n",
    "df = pd.get_dummies(df, columns = ['DISHH'], drop_first= True)"
   ]
  },
  {
   "cell_type": "markdown",
   "id": "9a9100c9",
   "metadata": {},
   "source": [
    "### Income and Housing Costs"
   ]
  },
  {
   "cell_type": "code",
   "execution_count": 83,
   "id": "3cc7b9c9",
   "metadata": {},
   "outputs": [
    {
     "data": {
      "text/plain": [
       "count    12450.000000\n",
       "mean         0.310608\n",
       "std          0.820442\n",
       "min          0.000000\n",
       "25%          0.139103\n",
       "50%          0.216000\n",
       "75%          0.334403\n",
       "max         68.488479\n",
       "Name: house_load_month, dtype: float64"
      ]
     },
     "execution_count": 83,
     "metadata": {},
     "output_type": "execute_result"
    }
   ],
   "source": [
    "# Calculating house load\n",
    "df['house_load_month'] = df['TOTHCAMT']/(df['HINCP']/12)\n",
    "df['house_load_month'].describe()"
   ]
  },
  {
   "cell_type": "markdown",
   "id": "31b2aead",
   "metadata": {},
   "source": [
    "### House Value, Price"
   ]
  },
  {
   "cell_type": "code",
   "execution_count": 84,
   "id": "8614ae2c",
   "metadata": {},
   "outputs": [],
   "source": [
    "# Clean marketval \n",
    "df['MARKETVAL'].interpolate(method = 'linear', inplace=True)"
   ]
  },
  {
   "cell_type": "markdown",
   "id": "e273bcbb",
   "metadata": {},
   "source": [
    "### Rent Sub & Rent Management"
   ]
  },
  {
   "cell_type": "code",
   "execution_count": 85,
   "id": "e84050f1",
   "metadata": {},
   "outputs": [],
   "source": [
    "# Categorize rent control and support \n",
    "# Rent Sub & Rent Mgmt\n",
    "# * RENTCNTRL\n",
    "#    * Controlled - 1\n",
    "#    * No rent control - 2\n",
    "\n",
    "# Define the conditions and corresponding categories\n",
    "conditions = [\n",
    "    (df['RENTCNTRL'] == 1),\n",
    "    (df['RENTCNTRL'] == 2)\n",
    "]\n",
    "\n",
    "categories = ['RNT_CONTROLLED', 'NOT_RNT_CONTROLLED']\n",
    "\n",
    "# Create a new column with categories based on conditions\n",
    "df['RENTCNTRL'] = np.select(conditions, categories, default='Uncategorized')\n",
    "df = pd.get_dummies(df, columns = ['RENTCNTRL'], drop_first= True)"
   ]
  },
  {
   "cell_type": "code",
   "execution_count": 86,
   "id": "3ce3be4b",
   "metadata": {},
   "outputs": [],
   "source": [
    "#* HUDSUB\n",
    "#    * Public housing - 1\n",
    "#    * Voucher - 2\n",
    "#    * Privately owned subsizied housing - 1\n",
    "#    * No government rental assisstance - 3\n",
    "\n",
    "conditions = [\n",
    "    (df['HUDSUB'] == 1),\n",
    "    (df['HUDSUB'] == 2),\n",
    "    (df['HUDSUB'] == 3) \n",
    "]\n",
    "\n",
    "categories = ['PUBLIC_H_SUBS', 'VOUCHER', 'NONE']\n",
    "\n",
    "# Create a new column with categories based on conditions\n",
    "df['HUDSUB'] = np.select(conditions, categories, default='Uncategorized')\n",
    "df = pd.get_dummies(df, columns = ['HUDSUB'], drop_first= True)"
   ]
  },
  {
   "cell_type": "markdown",
   "id": "75ff2e77",
   "metadata": {},
   "source": [
    "### Neighbourhoods"
   ]
  },
  {
   "cell_type": "code",
   "execution_count": 87,
   "id": "a562523e",
   "metadata": {},
   "outputs": [
    {
     "data": {
      "text/plain": [
       "8.0     3383\n",
       "10.0    3313\n",
       "9.0     2131\n",
       "7.0     1887\n",
       "6.0      741\n",
       "5.0      618\n",
       "4.0      161\n",
       "3.0       93\n",
       "1.0       67\n",
       "2.0       56\n",
       "Name: RATINGNH, dtype: int64"
      ]
     },
     "execution_count": 87,
     "metadata": {},
     "output_type": "execute_result"
    }
   ],
   "source": [
    "# Checking Neighbourhood Ratings\n",
    "df.loc[~df['RATINGNH'].between(1, 10), 'RATINGNH'] = 5\n",
    "df['RATINGNH'].value_counts()"
   ]
  },
  {
   "cell_type": "code",
   "execution_count": 88,
   "id": "4d160f3e",
   "metadata": {},
   "outputs": [],
   "source": [
    "# Opinion of neighbourhoods - school \n",
    "conditions = [\n",
    "    (df['NHQSCHOOL'] == 1),\n",
    "    (df['NHQSCHOOL'] == 2)]\n",
    "\n",
    "categories = ['GoodSchool', 'BadSchool']\n",
    "\n",
    "# Create a new column with categories based on conditions\n",
    "df['NHQSCHOOL'] = np.select(conditions, categories, default='NotReported')\n",
    "df = pd.get_dummies(df, columns = ['NHQSCHOOL'], drop_first= True)"
   ]
  },
  {
   "cell_type": "code",
   "execution_count": 89,
   "id": "61266d39",
   "metadata": {},
   "outputs": [],
   "source": [
    "# Opinion of neighbourhood - tranportation\n",
    "conditions = [\n",
    "    (df['NHQPUBTRN'] == 1),\n",
    "    (df['NHQPUBTRN'] == 2)]\n",
    "\n",
    "categories = ['GoodTranp', 'BadTranp']\n",
    "\n",
    "# Create a new column with categories based on conditions\n",
    "df['NHQPUBTRN'] = np.select(conditions, categories, default='NotReported')\n",
    "df = pd.get_dummies(df, columns = ['NHQPUBTRN'], drop_first= True)"
   ]
  },
  {
   "cell_type": "markdown",
   "id": "954b2e92",
   "metadata": {},
   "source": [
    "### Disaster Prep"
   ]
  },
  {
   "cell_type": "code",
   "execution_count": 90,
   "id": "62825739",
   "metadata": {},
   "outputs": [],
   "source": [
    "# Is an evacuation vehicle available? \n",
    "conditions = [\n",
    "    (df['DPEVVEHIC'] == 1),\n",
    "    (df['DPEVVEHIC'] == 2)]\n",
    "\n",
    "categories = ['EVAC_AV', 'EVAC_NAV']\n",
    "\n",
    "# Create a new column with categories based on conditions\n",
    "df['DPEVVEHIC'] = np.select(conditions, categories, default='NotReported')\n",
    "df = pd.get_dummies(df, columns = ['DPEVVEHIC'], drop_first= True)"
   ]
  },
  {
   "cell_type": "markdown",
   "id": "82fdb5f0",
   "metadata": {},
   "source": [
    "### Deliquent Payments"
   ]
  },
  {
   "cell_type": "code",
   "execution_count": 91,
   "id": "3e6e70e5",
   "metadata": {},
   "outputs": [],
   "source": [
    "# Miss mortgages?\n",
    "conditions = [\n",
    "    (df['DBMISSMORT'] == 1),\n",
    "    (df['DBMISSMORT'] == 2)]\n",
    "\n",
    "categories = ['ON_TIME', 'LATE']\n",
    "\n",
    "# Create a new column with categories based on conditions\n",
    "df['DBMISSMORT'] = np.select(conditions, categories, default='NotReported')\n",
    "df = pd.get_dummies(df, columns = ['DBMISSMORT'], drop_first= True)"
   ]
  },
  {
   "cell_type": "markdown",
   "id": "08ceae2b",
   "metadata": {},
   "source": [
    "### Commuting and Commuting Costs"
   ]
  },
  {
   "cell_type": "code",
   "execution_count": 92,
   "id": "30854e96",
   "metadata": {},
   "outputs": [
    {
     "data": {
      "text/plain": [
       "5.0    8756\n",
       "6.0    1100\n",
       "4.0    1080\n",
       "3.0     673\n",
       "7.0     388\n",
       "2.0     289\n",
       "1.0     164\n",
       "Name: COMDAYS, dtype: int64"
      ]
     },
     "execution_count": 92,
     "metadata": {},
     "output_type": "execute_result"
    }
   ],
   "source": [
    "# Checking commuting days\n",
    "df.loc[~df['COMDAYS'].between(0, 7), 'COMDAYS'] = 4\n",
    "df['COMDAYS'].value_counts()"
   ]
  },
  {
   "cell_type": "code",
   "execution_count": 93,
   "id": "d198b2f0",
   "metadata": {},
   "outputs": [],
   "source": [
    "df['DRIVEALL'].interpolate(method = 'linear', inplace=True)"
   ]
  },
  {
   "cell_type": "code",
   "execution_count": 94,
   "id": "6e4c0197",
   "metadata": {},
   "outputs": [],
   "source": [
    "# Check if distance is all valid numbers\n",
    "df['DIST'].interpolate(method = 'linear', inplace=True)"
   ]
  },
  {
   "cell_type": "code",
   "execution_count": 95,
   "id": "9e82d4b9",
   "metadata": {},
   "outputs": [],
   "source": [
    "# Categorize commuting mode\n",
    "df['COMTYPE'] = df['COMTYPE'].astype(int)\n",
    "\n",
    "conditions = [\n",
    "    (df['COMTYPE'] == 1),\n",
    "    (df['COMTYPE'] == 2),\n",
    "    (df['COMTYPE'] == 3),\n",
    "    (df['COMTYPE'] == 4),\n",
    "    (df['COMTYPE'] == 5),\n",
    "    (df['COMTYPE'] == 6), \n",
    "    (df['COMTYPE'] == 0)]\n",
    "\n",
    "categories = ['Driveall', 'Ptall', 'Multimode', 'Carpool', 'Compcar', 'Walkbike', 'Nocommute']\n",
    "\n",
    "# Create a new column with categories based on conditions\n",
    "df['COMTYPE'] = np.select(conditions, categories, default='NotReported')\n",
    "df = pd.get_dummies(df, columns = ['COMTYPE'], drop_first= True)"
   ]
  },
  {
   "cell_type": "code",
   "execution_count": 96,
   "id": "b1c2dc88",
   "metadata": {},
   "outputs": [],
   "source": [
    "conditions = [\n",
    "    (df['BUS'] == 1)]\n",
    "\n",
    "categories = ['YES']\n",
    "\n",
    "# Create a new column with categories based on conditions\n",
    "df['BUS'] = np.select(conditions, categories, default='NotReported')\n",
    "df = pd.get_dummies(df, columns = ['BUS'], drop_first= True)\n",
    "\n",
    "conditions = [\n",
    "    (df['SUBWAY'] == 1)]\n",
    "\n",
    "categories = ['YES']\n",
    "\n",
    "# Create a new column with categories based on conditions\n",
    "df['SUBWAY'] = np.select(conditions, categories, default='NotReported')\n",
    "df = pd.get_dummies(df, columns = ['SUBWAY'], drop_first= True)\n",
    "\n",
    "conditions = [\n",
    "    (df['VAN'] == 1)]\n",
    "\n",
    "categories = ['Yes']\n",
    "\n",
    "# Create a new column with categories based on conditions\n",
    "df['VAN'] = np.select(conditions, categories, default='NotReported')\n",
    "df = pd.get_dummies(df, columns = ['VAN'], drop_first= True)\n"
   ]
  },
  {
   "cell_type": "code",
   "execution_count": 97,
   "id": "4fb029bc",
   "metadata": {},
   "outputs": [],
   "source": [
    "# Categorize subsidy\n",
    "\n",
    "conditions = [\n",
    "    (df['SUBSIDY'] == 1),\n",
    "    (df['SUBSIDY'] == 2),\n",
    "    (df['SUBSIDY'] == 3)]\n",
    "\n",
    "categories = ['Full', 'Partial', 'None']\n",
    "\n",
    "# Create a new column with categories based on conditions\n",
    "df['SUBSIDY'] = np.select(conditions, categories, default='NotReported')\n",
    "df = pd.get_dummies(df, columns = ['SUBSIDY'], drop_first= True)"
   ]
  },
  {
   "cell_type": "code",
   "execution_count": 98,
   "id": "c47728a9",
   "metadata": {},
   "outputs": [],
   "source": [
    "# Opinion of neighbourhood - tranportation\n",
    "conditions = [\n",
    "    (df['GARAGE'] == 1),\n",
    "    (df['GARAGE'] == 2)]\n",
    "\n",
    "categories = ['Garage', 'NoGarage']\n",
    "\n",
    "# Create a new column with categories based on conditions\n",
    "df['GARAGE'] = np.select(conditions, categories, default='NotReported')\n",
    "df = pd.get_dummies(df, columns = ['GARAGE'], drop_first= True)"
   ]
  },
  {
   "cell_type": "code",
   "execution_count": 99,
   "id": "7b14b31f",
   "metadata": {},
   "outputs": [
    {
     "name": "stdout",
     "output_type": "stream",
     "text": [
      "0\n"
     ]
    }
   ],
   "source": [
    "# Check for nulls\n",
    "print(df.isnull().sum(axis=0).sum())"
   ]
  },
  {
   "cell_type": "code",
   "execution_count": 100,
   "metadata": {},
   "outputs": [
    {
     "data": {
      "text/plain": [
       "Index(['YRBUILT', 'UNITSIZE', 'RMJOB', 'RMOWNHH', 'RMFAMILY', 'RMCHANGE',\n",
       "       'RMCOMMUTE', 'RMHOME', 'RMCOSTS', 'RMHOOD', 'RMOTHER', 'HINCP',\n",
       "       'NUMPEOPLE', 'MARKETVAL', 'RATINGNH', 'TOTHCAMT', 'COMDAYS', 'DRIVEALL',\n",
       "       'DIST', 'COMCOST', 'INSECURITY', 'load', 'FOUNDTYPE_SINGLEFAM',\n",
       "       'FOUNDTYPE_Uncategorized', 'BLD_LOWDEN', 'BLD_MIDDEN', 'BLD_MOBILE',\n",
       "       'BLD_SINGLEATTACHED', 'BLD_SINGLEDETCH', 'BLD_Uncategorized',\n",
       "       'HEATFUEL_COALCOKE', 'HEATFUEL_ELEC', 'HEATFUEL_FUELOIL',\n",
       "       'HEATFUEL_KEROSENE', 'HEATFUEL_PIPEDGAS', 'HEATFUEL_SOLAR',\n",
       "       'HEATFUEL_Uncategorized', 'HEATFUEL_WOOD', 'WATSOURCE_SYSTEM',\n",
       "       'WATSOURCE_Uncategorized', 'ADEQUACY_MOD_INAD', 'ADEQUACY_SEV_INAD',\n",
       "       'MOVWHY_MOVE_FINANCE', 'MOVWHY_Uncategorized', 'NRATE_BETTER_NH',\n",
       "       'NRATE_SAME_NH', 'NRATE_Uncategorized', 'NRATE_WORSE_NH',\n",
       "       'HHRACE_Asian', 'HHRACE_Black', 'HHRACE_Native', 'HHRACE_Pacific',\n",
       "       'HHRACE_White', 'HHGRAD_B_deg', 'HHGRAD_Grad_deg', 'HHGRAD_HS',\n",
       "       'HHGRAD_noHS', 'MULTIGEN_NotMulti', 'DISHH_2.0', 'house_load_month',\n",
       "       'RENTCNTRL_RNT_CONTROLLED', 'RENTCNTRL_Uncategorized',\n",
       "       'HUDSUB_PUBLIC_H_SUBS', 'HUDSUB_Uncategorized', 'HUDSUB_VOUCHER',\n",
       "       'NHQSCHOOL_GoodSchool', 'NHQSCHOOL_NotReported', 'NHQPUBTRN_GoodTranp',\n",
       "       'NHQPUBTRN_NotReported', 'DBMISSMORT_NotReported', 'DBMISSMORT_ON_TIME',\n",
       "       'COMTYPE_Driveall', 'COMTYPE_Multimode', 'COMTYPE_Ptall', 'BUS_YES',\n",
       "       'SUBWAY_YES', 'VAN_Yes', 'SUBSIDY_None', 'SUBSIDY_NotReported',\n",
       "       'SUBSIDY_Partial', 'GARAGE_NoGarage', 'GARAGE_NotReported'],\n",
       "      dtype='object')"
      ]
     },
     "execution_count": 100,
     "metadata": {},
     "output_type": "execute_result"
    }
   ],
   "source": [
    "df.columns"
   ]
  },
  {
   "cell_type": "code",
   "execution_count": 101,
   "id": "9fd86dd3",
   "metadata": {},
   "outputs": [],
   "source": [
    "df_2 = df.drop(columns = ['HINCP', 'COMCOST'], axis =1)"
   ]
  },
  {
   "cell_type": "code",
   "execution_count": 102,
   "id": "02c8eca2",
   "metadata": {},
   "outputs": [],
   "source": [
    "df_2.to_csv('occupied_features_cleaned.csv')"
   ]
  },
  {
   "cell_type": "code",
   "execution_count": 103,
   "id": "2c9f9669",
   "metadata": {},
   "outputs": [],
   "source": [
    "df.to_csv('occupied_features_withincome.csv')"
   ]
  }
 ],
 "metadata": {
  "kernelspec": {
   "display_name": "Python 3 (ipykernel)",
   "language": "python",
   "name": "python3"
  },
  "language_info": {
   "codemirror_mode": {
    "name": "ipython",
    "version": 3
   },
   "file_extension": ".py",
   "mimetype": "text/x-python",
   "name": "python",
   "nbconvert_exporter": "python",
   "pygments_lexer": "ipython3",
   "version": "3.9.13"
  }
 },
 "nbformat": 4,
 "nbformat_minor": 5
}
